{
 "cells": [
  {
   "cell_type": "code",
   "execution_count": 7,
   "id": "aadcef36",
   "metadata": {},
   "outputs": [
    {
     "ename": "ModuleNotFoundError",
     "evalue": "No module named 'pyKernel'",
     "output_type": "error",
     "traceback": [
      "\u001b[1;31m---------------------------------------------------------------------------\u001b[0m",
      "\u001b[1;31mModuleNotFoundError\u001b[0m                       Traceback (most recent call last)",
      "\u001b[1;32m~\\AppData\\Local\\Temp/ipykernel_24828/4116936416.py\u001b[0m in \u001b[0;36m<module>\u001b[1;34m\u001b[0m\n\u001b[1;32m----> 1\u001b[1;33m \u001b[1;32mfrom\u001b[0m \u001b[0mpyKernel\u001b[0m\u001b[1;33m.\u001b[0m\u001b[0mipynb\u001b[0m \u001b[1;32mimport\u001b[0m \u001b[0mUnivariateGaussian\u001b[0m\u001b[1;33m,\u001b[0m \u001b[0mMultivariateGaussian\u001b[0m\u001b[1;33m\u001b[0m\u001b[1;33m\u001b[0m\u001b[0m\n\u001b[0m\u001b[0;32m      2\u001b[0m \u001b[1;32mimport\u001b[0m \u001b[0mnumpy\u001b[0m \u001b[1;32mas\u001b[0m \u001b[0mnp\u001b[0m\u001b[1;33m\u001b[0m\u001b[1;33m\u001b[0m\u001b[0m\n\u001b[0;32m      3\u001b[0m \u001b[1;32mimport\u001b[0m \u001b[0mplotly\u001b[0m\u001b[1;33m.\u001b[0m\u001b[0mgraph_objects\u001b[0m \u001b[1;32mas\u001b[0m \u001b[0mgo\u001b[0m\u001b[1;33m\u001b[0m\u001b[1;33m\u001b[0m\u001b[0m\n\u001b[0;32m      4\u001b[0m \u001b[1;32mimport\u001b[0m \u001b[0mplotly\u001b[0m\u001b[1;33m.\u001b[0m\u001b[0mio\u001b[0m \u001b[1;32mas\u001b[0m \u001b[0mpio\u001b[0m\u001b[1;33m\u001b[0m\u001b[1;33m\u001b[0m\u001b[0m\n\u001b[0;32m      5\u001b[0m \u001b[0mpio\u001b[0m\u001b[1;33m.\u001b[0m\u001b[0mtemplates\u001b[0m\u001b[1;33m.\u001b[0m\u001b[0mdefault\u001b[0m \u001b[1;33m=\u001b[0m \u001b[1;34m\"simple_white\"\u001b[0m\u001b[1;33m\u001b[0m\u001b[1;33m\u001b[0m\u001b[0m\n",
      "\u001b[1;31mModuleNotFoundError\u001b[0m: No module named 'pyKernel'"
     ]
    }
   ],
   "source": [
    "from pyKernel.ipynb import UnivariateGaussian, MultivariateGaussian\n",
    "import numpy as np\n",
    "import plotly.graph_objects as go\n",
    "import plotly.io as pio\n",
    "pio.templates.default = \"simple_white\"\n",
    "\n",
    "\n",
    "def test_univariate_gaussian():\n",
    "    # Question 1 - Draw samples and print fitted model\n",
    "    x = UnivariateGaussian()\n",
    "#     raise NotImplementedError()\n",
    "\n",
    "    # Question 2 - Empirically showing sample mean is consistent\n",
    "#     raise NotImplementedError()\n",
    "\n",
    "    # Question 3 - Plotting Empirical PDF of fitted model\n",
    "#     raise NotImplementedError()\n",
    "\n",
    "\n",
    "def test_multivariate_gaussian():\n",
    "    # Question 4 - Draw samples and print fitted model\n",
    "    raise NotImplementedError()\n",
    "\n",
    "    # Question 5 - Likelihood evaluation\n",
    "    raise NotImplementedError()\n",
    "\n",
    "    # Question 6 - Maximum likelihood\n",
    "    raise NotImplementedError()\n",
    "\n",
    "\n",
    "if __name__ == '__main__':\n",
    "    np.random.seed(0)\n",
    "    test_univariate_gaussian()\n",
    "#     test_multivariate_gaussian()"
   ]
  },
  {
   "cell_type": "code",
   "execution_count": null,
   "id": "ee7e8f3f",
   "metadata": {},
   "outputs": [],
   "source": []
  }
 ],
 "metadata": {
  "kernelspec": {
   "display_name": "Python 3 (ipykernel)",
   "language": "python",
   "name": "python3"
  },
  "language_info": {
   "codemirror_mode": {
    "name": "ipython",
    "version": 3
   },
   "file_extension": ".py",
   "mimetype": "text/x-python",
   "name": "python",
   "nbconvert_exporter": "python",
   "pygments_lexer": "ipython3",
   "version": "3.7.11"
  }
 },
 "nbformat": 4,
 "nbformat_minor": 5
}
